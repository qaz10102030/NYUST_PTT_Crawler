{
 "cells": [
  {
   "cell_type": "code",
   "execution_count": 11,
   "metadata": {
    "scrolled": true
   },
   "outputs": [
    {
     "name": "stdout",
     "output_type": "stream",
     "text": [
      "[{'content': '大家安安\\n\\n小弟最近有項作業\\n\\n要改歌詞還要唱\\n\\n可是平常很少聽中文歌\\n\\n不知道大家有沒有什麼推薦的\\n\\n--', 'date': 'Thu Dec 21 14:52:27 2017', 'author': 'Sron (沒暱稱)', 'title': '[問卦] 好聽又好唱的中文歌？'}, {'content': '小弟有一些理工宅朋友\\n\\n不怎麼愛打扮 大多肥肥宅宅的\\n\\n穿搭感覺從國中到現在都是一致\\n\\n聊天不是debug就是實驗室\\n\\n再不然就是動漫\\n\\n但遇到女生的時候每個都超尷尬\\n\\n搔搔油油的頭 然後呵呵呵的笑\\n\\n不然就是自顧自講自己的 讓氣氛降到零點\\n\\n\\n這樣算社交障礙還是異性障礙啊\\n\\n技能樹是不是點的不太平均\\n\\n--', 'date': 'Thu Dec 21 14:52:54 2017', 'author': 'fa881819 (拜特)', 'title': '[問卦] 理工宅不擅交際?'}, {'content': '', 'date': 'Thu Dec 21 14:53:27 2017', 'author': 'isaluku (山本君)', 'title': 'Re: [新聞] 「暫無暖氣但政策溫暖」 中共環保部挨轟'}, {'content': '大家午安\\n\\n各位肥宅中午有沒有把肚子塞飽啊？\\n\\n小弟剛剛在複習霍爾的移動城堡啦\\n\\n荒野女巫對蘇菲施展了變老的魔法\\n\\n並且告誡蘇菲不可以跟任何人說\\n\\n為什麼啊？\\n\\n另外還有荒野施展的是什麼魔法？\\n\\n為什麼蘇菲的外表會隨著心態而產生變化？\\n-----\\nSent from JPTT on my iPhone\\n\\n--', 'date': 'Thu Dec 21 14:54:54 2017', 'author': 'rv0918 (Lee)', 'title': '[問卦] 如果蘇菲說了會怎樣'}, {'content': '', 'date': 'Thu Dec 21 14:55:39 2017', 'author': 'perceval (摸魚中)', 'title': 'Re: [新聞] 共機今又繞台！我方飛行員喊「回頭」'}, {'content': '', 'date': 'Thu Dec 21 14:57:41 2017', 'author': 'todao (心裡有數)', 'title': 'Re: [問卦] 有沒有下床需要30分鐘的八卦'}, {'content': '有網友轉貼過去，助理反應好大XD', 'date': 'Thu Dec 21 14:58:27 2017', 'author': 'sdfzxc (萬般皆無)', 'title': 'Re: [ＦＢ] 沈志霖(阿堅助理)柯P光榮城市內幕大公開'}, {'content': '原文太多要錢推文\\n\\n在這回你一下,建議你去看免疫風濕科,可能是僵直性脊椎炎\\n\\n個人也有這方面的困擾,以前高中打籃球打一打痛到沒辦法彎下去綁鞋帶,以為打球腰傷\\n\\n冬天起床可能要花45分鐘身子熱了才能正常走動,然後每天痛到沒辦法專心上課\\n\\n\\n中間骨科神經科都看了藥都吃了,沒用就是沒用,後來是在榮總被懷疑僵直性脊椎炎\\n\\n才被轉到免疫風濕科\\n\\n其實台灣好像蠻高機率的人有這個病的基因,只是有這個基因發不發作又是另一件事\\n\\n運氣好的人有這基因不發作也不用當兵,最慘的是沒這基因還發作的人,比如說我\\n\\n明明就是痛得要死,還是被判一般義務役...\\n\\n\\n這病只有有錢人有資格得,因為不能久久持續一個動作,也不能長時間走路\\n\\n代表服務業你幾乎做不了,辦公室也要老闆願意讓你動不動就站起來走來走去伸展\\n\\n很多鄉民都在笑周杰倫逃兵,那是因為大多數人不知道這多痛\\n\\n套句我主治醫生的話,得這病的人很大機率會很聰明,因為每天痛覺刺激你的神經跟腦\\n\\n我不是專家我不知道他說對不對,但我確定你一醒來就會痛,痛到後面有天不痛你會覺得怪\\n\\n而目前無藥可醫,只能控制,像周杰倫那樣定時打個幾針生物激素（一針好幾千且沒健保）\\n\\n私人機構保險你也買不了\\n\\n\\n唯一控制的方法就是每天拉筋做瑜珈、早睡、飲食正常、避免菸酒、同姿勢不要維持太久\\n\\n游泳也是醫生建議控制的方法,但永遠只是控制...\\n\\n還得忍受旁人的異樣眼光,冬天一冷有時候身體僵硬就痛得下不了床\\n\\n老闆會覺得你根本是睡過頭,同事也會覺得你上班動不動就站起來走來走去是在裝病\\n\\n這病根本就是讓你看清楚你在台灣的工作環境不會有機會了,除非你家裡有錢\\n\\n\\n八掛點就是我從發病到現在人生只有幾天起床不背痛,就是前一天有抽大麻的時候\\n\\n取得是在溫哥華的藥用大麻店,然後現在本魯在澳洲當上班族,想在家工作就跟公司申請\\n\\n上班也是想去哪走走找靈感就可以去,去了老闆還願意借我車子或者補貼我交通費\\n\\n只能說台灣工作環境不適合自己啦\\n\\n--', 'date': 'Thu Dec 21 14:58:49 2017', 'author': 'Preach (溫哥華八弟)', 'title': 'Re: [問卦] 有沒有下床需要30分鐘的八卦'}, {'content': '台北的煙火最有名\\n\\n高雄的演唱會也不錯\\n\\n或是要約她爬山看日出\\n\\n好煩惱喔 到底要約哪裡才不會被學妹打槍\\n\\n\\n--', 'date': 'Thu Dec 21 14:59:21 2017', 'author': 'dudeboy (包莖俠)', 'title': '[問卦] 跨年夜要約學妹去哪裡?'}, {'content': '大家平常生活做各種事情，比如買東西，\\n長久下來應該都有一個固定路線。\\n\\n不過一直做同樣規劃，感覺久了也似乎有點枯燥。\\n偶爾換一下路線，比如平常都是海老名線，偶爾走切繪線，是不是也滿不錯的？\\n\\n--', 'date': 'Thu Dec 21 14:59:22 2017', 'author': 'arrenwu (柊真雪超級可愛)', 'title': '[問卦] 偶爾換一下路線是不是也不錯？'}, {'content': '╭─────────────────────────────────────╮\\n│ 本板為PTT八卦板，文章、推文及板務處理原則均依循中華民國法律、站規規範發\\u3000│\\n│ 文者，不得因不知相關板規而免卻責任。                                     │\\n╰─────────────────────────────────────╯', 'date': 'Sat Nov 11 23:55:13 2017', 'author': 'Kay731 (K少)', 'title': '[公告] 八卦板板規(2017.11.11)'}, {'content': '幫朋友代po\\n死者是朋友的表妹，請大家幫幫忙！\\n\\n-\\n\\n請各位鄉民們幫幫忙\\n找到一場車禍事故的行車記錄器、監視器畫面或目擊者\\n表妹出車禍，已宣告死亡，\\n整個下半身跟骨盆都嚴重扭曲變形\\n但是無法釐清肇事責任，\\n肇事者佔用機車道，表妹與她男朋友閃避不及而擦撞飛出\\n剛好後面一台711物流車行駛過來，釀成悲劇\\n時間：12/9 0:50-1:00之間\\n地點：台南市小東路138號，三媽臭臭鍋前\\n聯絡電話：0986205313\\n\\n\\n真的非常希望可以找到目擊證據 謝謝！！\\n\\n\\n\\n—\\n\\n目前家屬已經找到證據相關影片交由警方\\n真的非常感謝大家幫忙！！！\\n\\n--', 'date': 'Sun Dec 10 13:09:40 2017', 'author': 'vivismile (薇薇一笑)', 'title': '12/09 台南三媽臭臭鍋前車禍目擊'}, {'content': '請廣大的鄉民們幫幫忙\\n協尋一場車禍事故的行車紀錄器影片\\n我弟弟與他女友在此路口騎車往南直行時\\n遭違規左轉的汽車撞到\\n兩人的傷勢都很嚴重\\n肇事者說行車記錄器沒電無行車資料\\n時間：12/16 17:00-17:20 左右\\n地點：市民大道三段與金山北路口\\n如果有善心人士協助提供的話\\n請聯絡陳先生，電話0910327861\\n謝謝\\n-----\\nSent from JPTT on my iPhone\\n\\n--', 'date': 'Sat Dec 16 20:08:08 2017', 'author': 'someoneelse ( )', 'title': '[協尋] 12/16 台北市民大道金山北路口車禍'}, {'content': '昨晚(12/18)家人在明誠一路  鼎吉街口發生機車汽車車禍\\n時間約晚上9點前後\\n\\n\\n目前家人在加護病房觀察\\n懇求當時在附近的好心人提供行車記錄器\\n以釐清肇事原因\\n感激不盡\\n\\n-----\\nSent from JPTT on my Asus ASUS_Z012DA.\\n\\n--', 'date': 'Tue Dec 19 19:40:31 2017', 'author': 'jokerndmc (小人物)', 'title': '[協尋] 12月19日 晚上9點前後  高雄市明誠路 鼎'}, {'content': None, 'date': None, 'author': None, 'title': None}]\n"
     ]
    }
   ],
   "source": [
    "from bs4 import BeautifulSoup\n",
    "import requests\n",
    "\n",
    "class PTT_Crawler:\n",
    "    \n",
    "    def __init__(self,board,page,output=False):\n",
    "        self.board = board\n",
    "        self.page = page\n",
    "        self.url = \"https://www.ptt.cc/bbs/\"+ self.board + \"/index.html\"\n",
    "        self.session = requests.Session()\n",
    "        self.session.cookies.update({\n",
    "            'over18':'1'\n",
    "        })\n",
    "        \n",
    "    def run(self):\n",
    "        res = []\n",
    "        for page in range(0,self.page):\n",
    "            result = self.session.get(\n",
    "                self.url,\n",
    "            )\n",
    "            soup = BeautifulSoup(result.text, 'lxml')\n",
    "            link_list = self.getlinklist(soup)\n",
    "            url = 'https://www.ptt.cc' + self.getprevious(soup)\n",
    "            if(len(res) == 0):\n",
    "                res = [link for link in link_list]\n",
    "            else:\n",
    "                res.extend(link_list)\n",
    "        post_list = [self.getlistinfo(link) for link in res]\n",
    "        return post_list\n",
    "\n",
    "    def getprevious(self,soup):\n",
    "        return soup.find('div',{'class','btn-group btn-group-paging'}).find_all('a')[1].get('href')\n",
    "\n",
    "    def getlinklist(self,soup):\n",
    "        gossiping_list = soup.find('div',{'class','r-list-container action-bar-margin bbs-screen'}).find_all('a')\n",
    "        return [l.get('href') for l in gossiping_list]\n",
    "    \n",
    "    def getlistinfo(self,url):\n",
    "        do = self.session.get(\n",
    "            'https://www.ptt.cc' + url\n",
    "        )\n",
    "        soup = BeautifulSoup(do.text, 'lxml')\n",
    "        find_info = soup.find_all('span',{'class','article-meta-value'})\n",
    "        if(find_info):\n",
    "            author = find_info[0].text\n",
    "            title = find_info[2].text\n",
    "            date = find_info[3].text\n",
    "        else:\n",
    "            author = None\n",
    "            title = None\n",
    "            date = None\n",
    "        if soup.find_all('div',{'class','article-metaline'}):\n",
    "            content = soup.find_all('div',{'class','article-metaline'})[-1].next_sibling.strip()\n",
    "        else:\n",
    "            content = None\n",
    "        return {'title' : title,'author' : author,'date' : date,'content' : content}\n",
    "\n",
    "board = \"Gossiping\"\n",
    "page = 1\n",
    "\n",
    "crawler = PTT_Crawler(board,page)\n",
    "res = crawler.run()\n",
    "print(res)\n"
   ]
  }
 ],
 "metadata": {
  "kernelspec": {
   "display_name": "Python 3",
   "language": "python",
   "name": "python3"
  },
  "language_info": {
   "codemirror_mode": {
    "name": "ipython",
    "version": 3
   },
   "file_extension": ".py",
   "mimetype": "text/x-python",
   "name": "python",
   "nbconvert_exporter": "python",
   "pygments_lexer": "ipython3",
   "version": "3.5.2"
  }
 },
 "nbformat": 4,
 "nbformat_minor": 2
}
